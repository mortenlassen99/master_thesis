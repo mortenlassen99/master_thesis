{
 "cells": [
  {
   "cell_type": "code",
   "execution_count": 1,
   "id": "c967b312",
   "metadata": {},
   "outputs": [],
   "source": [
    "import numpy as np\n",
    "import pandas as pd\n",
    "import math \n",
    "from sklearn.pipeline import Pipeline\n",
    "from sklearn.linear_model import LinearRegression\n",
    "from sklearn.model_selection import train_test_split\n",
    "from sklearn.model_selection import KFold, cross_val_score, cross_val_predict"
   ]
  },
  {
   "cell_type": "code",
   "execution_count": 2,
   "id": "90102b58",
   "metadata": {},
   "outputs": [],
   "source": [
    "file_placering = '/Users/mortenlassen/Desktop/Data_v7.xlsx'\n",
    "\n",
    "df_data = pd.read_excel(file_placering, sheet_name='Combined')"
   ]
  },
  {
   "cell_type": "code",
   "execution_count": 3,
   "id": "a465bf2f",
   "metadata": {},
   "outputs": [],
   "source": [
    "X = df_data[['Ejerlejlighed','Antal værelser','Enhedsareal - Beboelse','Enhedsareal - Erhverv','Kælderareal','Familieoverdragelse','Fritidsbolig','Landbrugsbolig','Energimærke','Opførelsesår','Omtilbygningsår','Grundareal','Postnr']]\n",
    "y = df_data['Handelspris']\n",
    "\n",
    "X_train, X_test, y_train, y_test = train_test_split(X, y, test_size=0.2, random_state=42)\n"
   ]
  },
  {
   "cell_type": "code",
   "execution_count": 4,
   "id": "8b40899e",
   "metadata": {},
   "outputs": [
    {
     "name": "stdout",
     "output_type": "stream",
     "text": [
      "Gennemsnitlig MSE for K-Fold Cross-Validation: 6084902276777\n",
      "Gennemsnitlig RMSE for K-Fold Cross-Validation: 2466759\n",
      "MAPE for K-Fold Cross-Validation: 110.40524041%\n"
     ]
    }
   ],
   "source": [
    "pipeline = Pipeline([\n",
    "    ('linear', LinearRegression())\n",
    "])\n",
    "\n",
    "k = 5\n",
    "kfold = KFold(n_splits=k, shuffle=True, random_state=40)\n",
    "\n",
    "resultater = cross_val_score(pipeline, X, y, cv=kfold, scoring='neg_mean_squared_error')\n",
    "\n",
    "y_prædiktion = cross_val_predict(pipeline, X, y, cv=kfold)\n",
    "\n",
    "mape = np.mean(np.abs((y - y_prædiktion) / y)) * 100\n",
    "\n",
    "gennemsnit_mse = np.mean(resultater)\n",
    "gennemsnit_rmse = math.sqrt(-gennemsnit_mse)\n",
    "formateret_mse = f\"{-gennemsnit_mse:.0f}\"\n",
    "formateret_rmse = f\"{gennemsnit_rmse:.0f}\"\n",
    "\n",
    "# Print the result\n",
    "print(f\"Gennemsnitlig MSE for K-Fold Cross-Validation: {formateret_mse}\")\n",
    "print(f\"Gennemsnitlig RMSE for K-Fold Cross-Validation: {formateret_rmse}\")\n",
    "print(f\"MAPE for K-Fold Cross-Validation: {mape:.8f}%\")"
   ]
  },
  {
   "cell_type": "code",
   "execution_count": 5,
   "id": "929811d4",
   "metadata": {},
   "outputs": [
    {
     "name": "stdout",
     "output_type": "stream",
     "text": [
      "Skærningspunktet: -8345549\n",
      "Hældningskoefficienter: ['469087', '-51625', '14761', '372', '12122', '107456', '100570', '82302', '-35470', '5779', '-43', '13', '-385']\n"
     ]
    }
   ],
   "source": [
    "pipeline.fit(X_train, y_train)\n",
    "\n",
    "skæringspunkt = pipeline.named_steps['linear'].intercept_\n",
    "koefficienter = pipeline.named_steps['linear'].coef_\n",
    "\n",
    "formateret_skæringspunkt = f\"Skærningspunktet: {skæringspunkt:.0f}\"\n",
    "formateret_koefficienter = [f\"{coef:.0f}\" for coef in koefficienter]\n",
    "print(formateret_skæringspunkt)\n",
    "print(f\"Hældningskoefficienter: {formateret_koefficienter}\")"
   ]
  },
  {
   "cell_type": "code",
   "execution_count": 6,
   "id": "30529944",
   "metadata": {
    "scrolled": false
   },
   "outputs": [
    {
     "name": "stdout",
     "output_type": "stream",
     "text": [
      "Information for observation 1000:\n",
      "Ejerlejlighed                0\n",
      "Antal værelser               4\n",
      "Enhedsareal - Beboelse      85\n",
      "Enhedsareal - Erhverv        0\n",
      "Kælderareal                  0\n",
      "Familieoverdragelse          1\n",
      "Fritidsbolig                 1\n",
      "Landbrugsbolig               0\n",
      "Energimærke                 10\n",
      "Opførelsesår              2011\n",
      "Omtilbygningsår              0\n",
      "Grundareal                1297\n",
      "Postnr                    6950\n",
      "Name: 999, dtype: int64\n",
      "Prædiktion af pris for observation 1000: 1522345.10\n"
     ]
    }
   ],
   "source": [
    "observation_1000 = X.iloc[999]\n",
    "\n",
    "print(\"Information for observation 1000:\")\n",
    "print(observation_1000)\n",
    "\n",
    "observation_1000_omformet = observation_1000.values.reshape(1, -1) if hasattr(observation_1000, 'values') else observation_1000\n",
    "prædiktion = pipeline.predict(observation_1000_omformet)\n",
    "\n",
    "formateret_prædiktion = f\"{prædiktion[0]:.2f}\"\n",
    "\n",
    "print(f\"Prædiktion af pris for observation 1000: {formateret_prædiktion}\")\n",
    "\n"
   ]
  }
 ],
 "metadata": {
  "kernelspec": {
   "display_name": "Python 3",
   "language": "python",
   "name": "python3"
  },
  "language_info": {
   "codemirror_mode": {
    "name": "ipython",
    "version": 3
   },
   "file_extension": ".py",
   "mimetype": "text/x-python",
   "name": "python",
   "nbconvert_exporter": "python",
   "pygments_lexer": "ipython3",
   "version": "3.8.8"
  }
 },
 "nbformat": 4,
 "nbformat_minor": 5
}
